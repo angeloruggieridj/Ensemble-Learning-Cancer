{
 "cells": [
  {
   "cell_type": "markdown",
   "metadata": {},
   "source": [
    "## Indice contenuti\n",
    "- [Ensemble Learning](#Ensemble-Learning)\n",
    "- [Descrizione dataset](#Descrizione-dataset)\n",
    "- [Analisi esplorativa del dataset](#Analisi-esplorativa-del-dataset)\n",
    "    - [Caricamento in memoria del dataset](#Caricamento-in-memoria-del-dataset)\n",
    "    - [Pre-processing del dataset](#Pre-processing-del-dataset)\n",
    "- [Algoritmi Bagging](#Algoritmi-Bagging)\n",
    "    - [Bagged Decision Trees](#Bagged-Decision-Trees)\n",
    "    - [Random Forest](#Random-Forest)\n",
    "    - [Extra Trees](#Extra-Trees)\n",
    "- [Algoritmi Boosting](#Algoritmi-Boosting)\n",
    "    - [AdaBoost](#AdaBoost)\n",
    "    - [Stochastic Gradient Boosting](#Stochastic-Gradient-Boosting)\n",
    "- [Voting Ensemble](#Voting-Ensemble)\n",
    "<hr>"
   ]
  },
  {
   "cell_type": "markdown",
   "metadata": {},
   "source": [
    "### Ensemble Learning\n",
    "L'Ensemble Learning è una metodologia strategica per migliorare le performance del modello addestrato. Di solito conviene applicare l'Ensemble Learning considerando differenti modelli che potrebbero essere costruiti per il dataset in analisi.\n",
    "\n",
    "L'Ensemble Learning è, pertanto, utilizzato al fine di combinare insieme diversi insiemi di learners (detti individual models) e le rispettive predizioni al fine di poter avere un unico risultato.\n",
    "\n",
    "L'errore che emerge da qualsiasi modello può essere scomposto matematicamente in tre componenti.\n",
    "\n",
    "$\\text{Err}(x) = \\text{Bias}^2 + \\text{Varianza} + \\text{Errore irriducibile}$\n",
    "\n",
    "La spiegazione di ciascuna componente è di seguito riportata:\n",
    "- <b>Bias</b>: quantifica in media quanto i valori attesi siano diversi dal valore effettivo\n",
    "- <b>Varianza</b>: indica in che modo le previsioni effettuate sulla stessa osservazione siano differenti l'una dall'altra\n",
    "\n",
    "Naturalmente, incrementando la complessità del tuo modello, si assisterà ad una riduzione dell'errore dovuta alla prsenza di un minore bias nel modello. Tuttavia, questo accade solo fino ad un certo punto. Man mano che, infatti, si tende a rendere il modello sempre più complesso, tale si adatterà eccessivamente iniziando a soffrire di varianza elevata.\n",
    "\n",
    "Un modello ideale, pertanto, dovrebbe mantenere un equilibrio tra questi due tipi di errori. Tale problema passa sotto il nome di \"trade-off di Bias e Varianza\". L'Ensemble Learning risulta utile in questo frangente per poter ottenere il giusto compromesso.\n",
    "\n",
    "I tre principali metodi per combinare le predizioni derivanti da differenti modelli sono riportati di seguito:\n",
    "\n",
    "- <b>Bagging</b>: Bagging cerca di implementare learners simili tra loro su un piccolo campione della popolazione e prende una media di tutte le previsioni. Nel Bagging generalizzato, è possibile usare differenti learners su popolazioni diverse al fine di ridurre la varianza.\n",
    "\n",
    "![Esempio di Bagging](https://www.analyticsvidhya.com/wp-content/uploads/2015/07/bagging.png)\n",
    "- <b>Boosting</b>: Boosting è una tecnica iterativa che regola il peso di un'osservazione in base all'ultima classificazione effettuata. Se un'osservazione è stata classificata in modo errato, si cerca di aumentare il peso di questa osservazione e viceversa. La tecnica Boosting, in generale, riduce il bias e crea modelli predittivi solidi. Tuttavia, a volte possono adattarsi eccessivamente ai dati di training, andando in overfitting.\n",
    "\n",
    "![Esempio di Boosting](https://www.analyticsvidhya.com/wp-content/uploads/2015/07/boosting.png)\n",
    "- <b>Voting</b>: La tecnica per votazione è una delle tecniche di apprendimento Ensemble più dirette in cui vengono combinate le previsioni ottenute da più modelli. Il metodo inizia con la creazione di due o più modelli separati con lo stesso set di dati. In seguito, un modello Ensemble basato sul voto può essere utilizzato per racchiudere i modelli precedenti e aggregare le previsioni di tali modelli. Dopo che il modello Ensemble basato sul voto è stato costruito, può essere utilizzato per fare una previsione sui nuovi dati. Alle previsioni fatte dai sottomodelli possono essere assegnati pesi. L'aggregazione utilizzando lo Stack è una tecnica che può essere utilizzata per imparare a valutare queste previsioni nel miglior modo possibile.\n",
    "\n",
    "![Esempio di Voting](https://www.analyticsvidhya.com/wp-content/uploads/2015/07/stacking-297x300.png)"
   ]
  },
  {
   "cell_type": "markdown",
   "metadata": {},
   "source": [
    "## Descrizione dataset\n",
    "\n",
    "Per costruire i differenti modelli, verrà utilizzato il dataset <a href=\"https://raw.githubusercontent.com/jbrownlee/Datasets/master/pima-indians-diabetes.data.csv\">Pima Indians</a> riguardante informazioni circa il diabete. Il dataset raccoglie informazioni in forma numerica per la risoluzione di un problema di classificazione binaria.\n",
    "\n",
    "Di seguito sono riportate le features presenti:\n",
    "   1. Number of times pregnant\n",
    "   2. Plasma glucose concentration a 2 hours in an oral glucose tolerance test\n",
    "   3. Diastolic blood pressure (mm Hg)\n",
    "   4. Triceps skin fold thickness (mm)\n",
    "   5. 2-Hour serum insulin (mu U/ml)\n",
    "   6. Body mass index (weight in kg/(height in m)^2)\n",
    "   7. Diabetes pedigree function\n",
    "   8. Age (years)\n",
    "   9. Class variable (0 or 1)\n",
    "   \n",
    "Per ciascun algoritmo di tipo Ensemble, si utilizzerà al fine della valutazione sui dati non visti una 10-Fold Cross Validation."
   ]
  },
  {
   "cell_type": "markdown",
   "metadata": {},
   "source": [
    "## Analisi esplorativa del dataset"
   ]
  },
  {
   "cell_type": "markdown",
   "metadata": {},
   "source": [
    "### Caricamento in memoria del dataset\n",
    "Con il seguente comando si effettua il caricamento in memoria di quanto contenuto nel dataset _'pima-indians-diabetes.csv'_.\n",
    "\n",
    "Per condurre una prima fase di analisi esplorativa e comprendere la natura dei dati a disposizione, si stampano di seguito i primi cinque esempi presenti nel dataset:"
   ]
  },
  {
   "cell_type": "code",
   "execution_count": 1,
   "metadata": {},
   "outputs": [
    {
     "data": {
      "text/html": [
       "<div>\n",
       "<style scoped>\n",
       "    .dataframe tbody tr th:only-of-type {\n",
       "        vertical-align: middle;\n",
       "    }\n",
       "\n",
       "    .dataframe tbody tr th {\n",
       "        vertical-align: top;\n",
       "    }\n",
       "\n",
       "    .dataframe thead th {\n",
       "        text-align: right;\n",
       "    }\n",
       "</style>\n",
       "<table border=\"1\" class=\"dataframe\">\n",
       "  <thead>\n",
       "    <tr style=\"text-align: right;\">\n",
       "      <th></th>\n",
       "      <th>preg</th>\n",
       "      <th>plas</th>\n",
       "      <th>pres</th>\n",
       "      <th>skin</th>\n",
       "      <th>test</th>\n",
       "      <th>mass</th>\n",
       "      <th>pedi</th>\n",
       "      <th>age</th>\n",
       "      <th>class</th>\n",
       "    </tr>\n",
       "  </thead>\n",
       "  <tbody>\n",
       "    <tr>\n",
       "      <th>0</th>\n",
       "      <td>6</td>\n",
       "      <td>148</td>\n",
       "      <td>72</td>\n",
       "      <td>35</td>\n",
       "      <td>0</td>\n",
       "      <td>33.6</td>\n",
       "      <td>0.627</td>\n",
       "      <td>50</td>\n",
       "      <td>1</td>\n",
       "    </tr>\n",
       "    <tr>\n",
       "      <th>1</th>\n",
       "      <td>1</td>\n",
       "      <td>85</td>\n",
       "      <td>66</td>\n",
       "      <td>29</td>\n",
       "      <td>0</td>\n",
       "      <td>26.6</td>\n",
       "      <td>0.351</td>\n",
       "      <td>31</td>\n",
       "      <td>0</td>\n",
       "    </tr>\n",
       "    <tr>\n",
       "      <th>2</th>\n",
       "      <td>8</td>\n",
       "      <td>183</td>\n",
       "      <td>64</td>\n",
       "      <td>0</td>\n",
       "      <td>0</td>\n",
       "      <td>23.3</td>\n",
       "      <td>0.672</td>\n",
       "      <td>32</td>\n",
       "      <td>1</td>\n",
       "    </tr>\n",
       "    <tr>\n",
       "      <th>3</th>\n",
       "      <td>1</td>\n",
       "      <td>89</td>\n",
       "      <td>66</td>\n",
       "      <td>23</td>\n",
       "      <td>94</td>\n",
       "      <td>28.1</td>\n",
       "      <td>0.167</td>\n",
       "      <td>21</td>\n",
       "      <td>0</td>\n",
       "    </tr>\n",
       "    <tr>\n",
       "      <th>4</th>\n",
       "      <td>0</td>\n",
       "      <td>137</td>\n",
       "      <td>40</td>\n",
       "      <td>35</td>\n",
       "      <td>168</td>\n",
       "      <td>43.1</td>\n",
       "      <td>2.288</td>\n",
       "      <td>33</td>\n",
       "      <td>1</td>\n",
       "    </tr>\n",
       "  </tbody>\n",
       "</table>\n",
       "</div>"
      ],
      "text/plain": [
       "   preg  plas  pres  skin  test  mass   pedi  age  class\n",
       "0     6   148    72    35     0  33.6  0.627   50      1\n",
       "1     1    85    66    29     0  26.6  0.351   31      0\n",
       "2     8   183    64     0     0  23.3  0.672   32      1\n",
       "3     1    89    66    23    94  28.1  0.167   21      0\n",
       "4     0   137    40    35   168  43.1  2.288   33      1"
      ]
     },
     "execution_count": 1,
     "metadata": {},
     "output_type": "execute_result"
    }
   ],
   "source": [
    "import pandas\n",
    "import matplotlib.pyplot as plt\n",
    "\n",
    "col_names = ['preg', 'plas', 'pres', 'skin', 'test', 'mass', 'pedi', 'age', 'class']\n",
    "dataframe = pandas.read_csv(\"./input/pima-indians-diabetes.csv\", names=col_names)\n",
    "array = dataframe.values\n",
    "\n",
    "dataframe.head()"
   ]
  },
  {
   "cell_type": "markdown",
   "metadata": {},
   "source": [
    "### Pre-processing del dataset"
   ]
  },
  {
   "cell_type": "markdown",
   "metadata": {},
   "source": [
    "Per ottenere informazioni statistiche inerenti ciascuna feature a disposizione, mediante il metodo _describe()_ si è provveduto al calcolo delle seguenti informazioni:\n",
    "- <b>count</b>: conteggio del numero di esempi per la feature selezionata\n",
    "- <b>mean</b>: media aritmetica per la feature selezionata\n",
    "- <b>std</b>: deviazione standard per la feature selezionata\n",
    "- <b>min</b>: valore minimo presentato dagli esempi per la feature selezionata\n",
    "- <b>25%</b>: primo quartile calcolato sugli esempi per la feature selezionata\n",
    "- <b>50%</b>: secondo quartile calcolato sugli esempi per la feature selezionata\n",
    "- <b>75%</b>: terzo quartile calcolato sugli esempi per la feature selezionata\n",
    "- <b>max</b>: valore massimo presentato dagli esempi per la feature selezionata"
   ]
  },
  {
   "cell_type": "code",
   "execution_count": 2,
   "metadata": {},
   "outputs": [
    {
     "data": {
      "text/html": [
       "<div>\n",
       "<style scoped>\n",
       "    .dataframe tbody tr th:only-of-type {\n",
       "        vertical-align: middle;\n",
       "    }\n",
       "\n",
       "    .dataframe tbody tr th {\n",
       "        vertical-align: top;\n",
       "    }\n",
       "\n",
       "    .dataframe thead th {\n",
       "        text-align: right;\n",
       "    }\n",
       "</style>\n",
       "<table border=\"1\" class=\"dataframe\">\n",
       "  <thead>\n",
       "    <tr style=\"text-align: right;\">\n",
       "      <th></th>\n",
       "      <th>preg</th>\n",
       "      <th>plas</th>\n",
       "      <th>pres</th>\n",
       "      <th>skin</th>\n",
       "      <th>test</th>\n",
       "      <th>mass</th>\n",
       "      <th>pedi</th>\n",
       "      <th>age</th>\n",
       "      <th>class</th>\n",
       "    </tr>\n",
       "  </thead>\n",
       "  <tbody>\n",
       "    <tr>\n",
       "      <th>count</th>\n",
       "      <td>768.000000</td>\n",
       "      <td>768.000000</td>\n",
       "      <td>768.000000</td>\n",
       "      <td>768.000000</td>\n",
       "      <td>768.000000</td>\n",
       "      <td>768.000000</td>\n",
       "      <td>768.000000</td>\n",
       "      <td>768.000000</td>\n",
       "      <td>768.000000</td>\n",
       "    </tr>\n",
       "    <tr>\n",
       "      <th>mean</th>\n",
       "      <td>3.845052</td>\n",
       "      <td>120.894531</td>\n",
       "      <td>69.105469</td>\n",
       "      <td>20.536458</td>\n",
       "      <td>79.799479</td>\n",
       "      <td>31.992578</td>\n",
       "      <td>0.471876</td>\n",
       "      <td>33.240885</td>\n",
       "      <td>0.348958</td>\n",
       "    </tr>\n",
       "    <tr>\n",
       "      <th>std</th>\n",
       "      <td>3.369578</td>\n",
       "      <td>31.972618</td>\n",
       "      <td>19.355807</td>\n",
       "      <td>15.952218</td>\n",
       "      <td>115.244002</td>\n",
       "      <td>7.884160</td>\n",
       "      <td>0.331329</td>\n",
       "      <td>11.760232</td>\n",
       "      <td>0.476951</td>\n",
       "    </tr>\n",
       "    <tr>\n",
       "      <th>min</th>\n",
       "      <td>0.000000</td>\n",
       "      <td>0.000000</td>\n",
       "      <td>0.000000</td>\n",
       "      <td>0.000000</td>\n",
       "      <td>0.000000</td>\n",
       "      <td>0.000000</td>\n",
       "      <td>0.078000</td>\n",
       "      <td>21.000000</td>\n",
       "      <td>0.000000</td>\n",
       "    </tr>\n",
       "    <tr>\n",
       "      <th>25%</th>\n",
       "      <td>1.000000</td>\n",
       "      <td>99.000000</td>\n",
       "      <td>62.000000</td>\n",
       "      <td>0.000000</td>\n",
       "      <td>0.000000</td>\n",
       "      <td>27.300000</td>\n",
       "      <td>0.243750</td>\n",
       "      <td>24.000000</td>\n",
       "      <td>0.000000</td>\n",
       "    </tr>\n",
       "    <tr>\n",
       "      <th>50%</th>\n",
       "      <td>3.000000</td>\n",
       "      <td>117.000000</td>\n",
       "      <td>72.000000</td>\n",
       "      <td>23.000000</td>\n",
       "      <td>30.500000</td>\n",
       "      <td>32.000000</td>\n",
       "      <td>0.372500</td>\n",
       "      <td>29.000000</td>\n",
       "      <td>0.000000</td>\n",
       "    </tr>\n",
       "    <tr>\n",
       "      <th>75%</th>\n",
       "      <td>6.000000</td>\n",
       "      <td>140.250000</td>\n",
       "      <td>80.000000</td>\n",
       "      <td>32.000000</td>\n",
       "      <td>127.250000</td>\n",
       "      <td>36.600000</td>\n",
       "      <td>0.626250</td>\n",
       "      <td>41.000000</td>\n",
       "      <td>1.000000</td>\n",
       "    </tr>\n",
       "    <tr>\n",
       "      <th>max</th>\n",
       "      <td>17.000000</td>\n",
       "      <td>199.000000</td>\n",
       "      <td>122.000000</td>\n",
       "      <td>99.000000</td>\n",
       "      <td>846.000000</td>\n",
       "      <td>67.100000</td>\n",
       "      <td>2.420000</td>\n",
       "      <td>81.000000</td>\n",
       "      <td>1.000000</td>\n",
       "    </tr>\n",
       "  </tbody>\n",
       "</table>\n",
       "</div>"
      ],
      "text/plain": [
       "             preg        plas        pres        skin        test        mass  \\\n",
       "count  768.000000  768.000000  768.000000  768.000000  768.000000  768.000000   \n",
       "mean     3.845052  120.894531   69.105469   20.536458   79.799479   31.992578   \n",
       "std      3.369578   31.972618   19.355807   15.952218  115.244002    7.884160   \n",
       "min      0.000000    0.000000    0.000000    0.000000    0.000000    0.000000   \n",
       "25%      1.000000   99.000000   62.000000    0.000000    0.000000   27.300000   \n",
       "50%      3.000000  117.000000   72.000000   23.000000   30.500000   32.000000   \n",
       "75%      6.000000  140.250000   80.000000   32.000000  127.250000   36.600000   \n",
       "max     17.000000  199.000000  122.000000   99.000000  846.000000   67.100000   \n",
       "\n",
       "             pedi         age       class  \n",
       "count  768.000000  768.000000  768.000000  \n",
       "mean     0.471876   33.240885    0.348958  \n",
       "std      0.331329   11.760232    0.476951  \n",
       "min      0.078000   21.000000    0.000000  \n",
       "25%      0.243750   24.000000    0.000000  \n",
       "50%      0.372500   29.000000    0.000000  \n",
       "75%      0.626250   41.000000    1.000000  \n",
       "max      2.420000   81.000000    1.000000  "
      ]
     },
     "execution_count": 2,
     "metadata": {},
     "output_type": "execute_result"
    }
   ],
   "source": [
    "dataframe.describe()"
   ]
  },
  {
   "cell_type": "markdown",
   "metadata": {},
   "source": [
    "Al fine di ottenere una descrizione complessiva del Dataframe (e dunque del relativo dataset) caricato, mediante il metodo _info()_ si sono ottenute le seguenti informazioni:\n",
    "- <b>#</b>: numero di feature presente nel DataFrame\n",
    "- <b>Column</b>: intestazione delle features nel DataFrame\n",
    "- <b>Non-Null Count</b>: contatore di valori non nulli per ogni feature presente nel DataFrame\n",
    "- <b>Dtype</b>: tipo di dato memorizzato per ogni feature presente nel DataFrame"
   ]
  },
  {
   "cell_type": "code",
   "execution_count": 3,
   "metadata": {},
   "outputs": [
    {
     "name": "stdout",
     "output_type": "stream",
     "text": [
      "<class 'pandas.core.frame.DataFrame'>\n",
      "RangeIndex: 768 entries, 0 to 767\n",
      "Data columns (total 9 columns):\n",
      " #   Column  Non-Null Count  Dtype  \n",
      "---  ------  --------------  -----  \n",
      " 0   preg    768 non-null    int64  \n",
      " 1   plas    768 non-null    int64  \n",
      " 2   pres    768 non-null    int64  \n",
      " 3   skin    768 non-null    int64  \n",
      " 4   test    768 non-null    int64  \n",
      " 5   mass    768 non-null    float64\n",
      " 6   pedi    768 non-null    float64\n",
      " 7   age     768 non-null    int64  \n",
      " 8   class   768 non-null    int64  \n",
      "dtypes: float64(2), int64(7)\n",
      "memory usage: 54.1 KB\n"
     ]
    }
   ],
   "source": [
    "dataframe.info()"
   ]
  },
  {
   "cell_type": "code",
   "execution_count": 4,
   "metadata": {},
   "outputs": [],
   "source": [
    "#Split del dataset in X e Y\n",
    "X = array[:,0:8] #Esclude la colonna relativa alla classe\n",
    "Y = array[:,8] #Considera esclusivamente la classe come feature target\n",
    "\n",
    "#Impostazione del seed\n",
    "seed = 1"
   ]
  },
  {
   "cell_type": "markdown",
   "metadata": {},
   "source": [
    "Vista la presenza di dati espressi su un diverso range numerico, si effettua la standardizzazione, mediante apposito metodo StandardScaler()."
   ]
  },
  {
   "cell_type": "code",
   "execution_count": 5,
   "metadata": {},
   "outputs": [],
   "source": [
    "from sklearn.preprocessing import StandardScaler\n",
    "\n",
    "sc_x = StandardScaler()\n",
    "X = sc_x.fit_transform(X)"
   ]
  },
  {
   "cell_type": "code",
   "execution_count": 6,
   "metadata": {},
   "outputs": [],
   "source": [
    "num_trees_list = [x for x in range(5,100+1,5)]"
   ]
  },
  {
   "cell_type": "code",
   "execution_count": 7,
   "metadata": {},
   "outputs": [],
   "source": [
    "def print_graph(num_trees_list, means):\n",
    "    plt.plot(num_trees_list, means)\n",
    "    plt.xlabel('Numero alberi')\n",
    "    plt.ylabel('Media Cross-Validation')\n",
    "    plt.show()"
   ]
  },
  {
   "cell_type": "code",
   "execution_count": 8,
   "metadata": {},
   "outputs": [],
   "source": [
    "def print_max_accuracy(num_trees_list, means):\n",
    "    max_index = means.index(max(means))\n",
    "    zipped_list = list(zip(num_trees_list, means))\n",
    "    print(f\"Numero alberi: {zipped_list[max_index][0]} -> Accuracy CV: {zipped_list[max_index][1]}\")"
   ]
  },
  {
   "cell_type": "markdown",
   "metadata": {},
   "source": [
    "# Algoritmi Bagging\n",
    "1. Bagged Decision Trees\n",
    "2. Random Forest\n",
    "3. Extra Trees"
   ]
  },
  {
   "cell_type": "markdown",
   "metadata": {},
   "source": [
    "## Bagged Decision Trees\n",
    "L'algoritmo Bagging registra le migliori performance quando applicato su dataset con un'alta varianza. Un classico esempio è rappresentato dai DecisionTrees, spesso costruiti senza alcuna potatura.\n",
    "\n",
    "Negli snippet di codice sottostanti, è mostrato l'utilizzo di _BaggingClassifier_ costruito con _DecisionTreeClassifier_. \n",
    "Si valuterà il _BaggingClassifier_ utilizzando un numero variabile di alberi. Infine, si stamperà il plot dell'accuratezza ritornata dalla Cross-Validation e il rispettivo numero di alberi. Tra tali valori, inoltre, è ritornato il numero di alberi consigliati in base al valore dell'accuratezza restituita dalla Cross-Validation.\n",
    "\n",
    "\n",
    "Parametri utilizzat in BaggingClassifier:\n",
    "- <b>base_estimator</b>: lo stimatore base da fittare su un subset random del dataset. Se non importato, lo stimatore è un albero di decisione\n",
    "- <b>n_estimators</b>: numero di stimatori nell'ensemble\n",
    "- <b>random_state</b>: utilizzato per controllare il resampling randomico del dataset originale. Se lo stimatore base acetta questo attrivuto, nell'ensemble viene generato un seme differente per ogni istanza.\n",
    "- <b>max_samples</b>: numero di esempi da prendere in considerazione da X per il train di ogni stimatore.\n",
    "- <b>max_features</b>: numero di features da considerare per ogni stimatore base\n",
    "- <b>bootstrap</b>: vero se gli esempi sono prelevati con rimessa.\n",
    "- <b>bootstrap_features</b>: vero se le features sono prelevate con rimessa.\n",
    "- <b>n_jobs</b>: numero di processi da eseguire in parallelo per il fit e il predict."
   ]
  },
  {
   "cell_type": "code",
   "execution_count": 9,
   "metadata": {},
   "outputs": [],
   "source": [
    "# Bagged Decision Trees for Classification\n",
    "from sklearn import model_selection\n",
    "from sklearn.ensemble import BaggingClassifier\n",
    "from sklearn.tree import DecisionTreeClassifier"
   ]
  },
  {
   "cell_type": "code",
   "execution_count": 10,
   "metadata": {},
   "outputs": [
    {
     "data": {
      "image/png": "[encoded data removed]",
      "text/plain": [
       "<Figure size 432x288 with 1 Axes>"
      ]
     },
     "metadata": {
      "needs_background": "light"
     },
     "output_type": "display_data"
    },
    {
     "name": "stdout",
     "output_type": "stream",
     "text": [
      "Numero alberi: 35 -> Accuracy CV: 0.783697881066302\n"
     ]
    }
   ],
   "source": [
    "#Dichiarazione del modello\n",
    "kfold = model_selection.KFold(n_splits=10, random_state=seed, shuffle = True)\n",
    "\n",
    "#Classificatore di base\n",
    "#criterion='gini' restituisce un numero di alberi pari a 80, con la stessa accuracy\n",
    "cart = DecisionTreeClassifier(criterion='entropy', max_depth=None, random_state=1)\n",
    "\n",
    "means = []\n",
    "for num_trees in num_trees_list:\n",
    "    #Dichiarazione del modello Bagging\n",
    "    model = BaggingClassifier(base_estimator=cart, n_estimators=num_trees, random_state=seed, max_samples=1.0, max_features=1.0, bootstrap=True, bootstrap_features=False, n_jobs=1)\n",
    "    results = model_selection.cross_val_score(model, X, Y, cv=kfold)\n",
    "    means.append(results.mean())\n",
    "    \n",
    "print_graph(num_trees_list, means)\n",
    "print_max_accuracy(num_trees_list, means)"
   ]
  },
  {
   "cell_type": "code",
   "execution_count": 11,
   "metadata": {},
   "outputs": [
    {
     "name": "stdout",
     "output_type": "stream",
     "text": [
      "Decision tree train/test accuracies 1.000/0.675\n",
      "Bagging train/test accuracies 1.000/0.740\n"
     ]
    }
   ],
   "source": [
    "from sklearn.metrics import accuracy_score\n",
    "from sklearn.model_selection import train_test_split\n",
    "\n",
    "\n",
    "X_train, X_test, y_train, y_test = train_test_split(X, Y, test_size=0.2, random_state=1, stratify=Y)\n",
    "\n",
    "cart = cart.fit(X_train, y_train)\n",
    "y_train_pred = cart.predict(X_train)\n",
    "y_test_pred = cart.predict(X_test)\n",
    "\n",
    "tree_train = accuracy_score(y_train, y_train_pred)\n",
    "tree_test = accuracy_score(y_test, y_test_pred)\n",
    "print('Decision tree train/test accuracies %.3f/%.3f' % (tree_train, tree_test))\n",
    "\n",
    "model = model.fit(X_train, y_train)\n",
    "y_train_pred = model.predict(X_train)\n",
    "y_test_pred = model.predict(X_test)\n",
    "\n",
    "model_train = accuracy_score(y_train, y_train_pred) \n",
    "model_test = accuracy_score(y_test, y_test_pred) \n",
    "print('Bagging train/test accuracies %.3f/%.3f' % (model_train, model_test))"
   ]
  },
  {
   "cell_type": "markdown",
   "metadata": {},
   "source": [
    "## Random Forest\n",
    "\n",
    "Random Forest è una estensione del Bagged Decision Trees, visto precedentemente. In questo caso, i campioni del training set sono presi con rimpiazzamento, ma gli alberi sono costruiti in modo tale che sia ridotta la correlazione tra i singoli classificatori.\n",
    "\n",
    "Negli snippet di codice sottostanti, è mostrato l'utilizzo di _RandomForestClassifier_ con un punto di split scelto dalla selezione randomica di tre features. \n",
    "Si valuterà il _RandomForestClassifier_ utilizzando un numero variabile di alberi. Infine, si stamperà il plot dell'accuratezza ritornata dalla Cross-Validation e il rispettivo numero di alberi. Tra tali valori, inoltre, è ritornato il numero di alberi consigliati in base al valore dell'accuratezza restituita dalla Cross-Validation.\n",
    "\n",
    "\n",
    "Parametri utilizzati in RandomForestClassifier:\n",
    "- <b>n_estimators</b>: numero di alberi decisionali da utilizzare\n",
    "- <b>max_features</b>: numero di feature massimo da utilizzare\n",
    "- <b>n_jobs</b>: numero di processi da utilizzare per il fit e la predict"
   ]
  },
  {
   "cell_type": "code",
   "execution_count": 12,
   "metadata": {},
   "outputs": [],
   "source": [
    "from sklearn import model_selection\n",
    "from sklearn.ensemble import RandomForestClassifier"
   ]
  },
  {
   "cell_type": "code",
   "execution_count": 13,
   "metadata": {},
   "outputs": [
    {
     "data": {
      "image/png": "[encoded data removed]",
      "text/plain": [
       "<Figure size 432x288 with 1 Axes>"
      ]
     },
     "metadata": {
      "needs_background": "light"
     },
     "output_type": "display_data"
    },
    {
     "name": "stdout",
     "output_type": "stream",
     "text": [
      "Numero alberi: 100 -> Accuracy CV: 0.7706766917293234\n"
     ]
    }
   ],
   "source": [
    "#Dichiarazione del modello\n",
    "max_features = 3\n",
    "kfold = model_selection.KFold(n_splits=10, random_state=seed, shuffle = True)\n",
    "\n",
    "#Dichiarazione del modello RandomForestClassifier\n",
    "means = []\n",
    "for num_trees in num_trees_list:\n",
    "    model = RandomForestClassifier(n_estimators=num_trees, max_features=max_features, n_jobs=-1)\n",
    "    results = model_selection.cross_val_score(model, X, Y, cv=kfold)\n",
    "    means.append(results.mean())\n",
    "    \n",
    "print_graph(num_trees_list, means)\n",
    "print_max_accuracy(num_trees_list, means)"
   ]
  },
  {
   "cell_type": "code",
   "execution_count": 14,
   "metadata": {},
   "outputs": [
    {
     "name": "stdout",
     "output_type": "stream",
     "text": [
      "RandomForestClassifier train/test accuracies 1.000/0.734\n"
     ]
    }
   ],
   "source": [
    "from sklearn.metrics import accuracy_score\n",
    "from sklearn.model_selection import train_test_split\n",
    "\n",
    "X_train, X_test, y_train, y_test = train_test_split(X, Y, test_size=0.2, random_state=1, stratify=Y)\n",
    "\n",
    "model = model.fit(X_train, y_train)\n",
    "y_train_pred = model.predict(X_train)\n",
    "y_test_pred = model.predict(X_test)\n",
    "\n",
    "model_train = accuracy_score(y_train, y_train_pred) \n",
    "model_test = accuracy_score(y_test, y_test_pred) \n",
    "print('RandomForestClassifier train/test accuracies %.3f/%.3f' % (model_train, model_test))"
   ]
  },
  {
   "cell_type": "markdown",
   "metadata": {},
   "source": [
    "### Extra Trees\n",
    "Extra Trees sono una ulteriore modifica al Bagging, visto precedentemente, dove vengono costruiti degli alberi randomici dai campioni presenti all'interno del training set.\n",
    "\n",
    "Negli snippet di codice sottostanti, è mostrato l'utilizzo di _ExtraTreesClassifier_ con un punto di split scelto dalla selezione randomica di sette features. \n",
    "Si valuterà il _ExtraTreesClassifier_ utilizzando un numero variabile di alberi. Infine, si stamperà il plot dell'accuratezza ritornata dalla Cross-Validation e il rispettivo numero di alberi. Tra tali valori, inoltre, è ritornato il numero di alberi consigliati in base al valore dell'accuratezza restituita dalla Cross-Validation.\n",
    "\n",
    "\n",
    "Parametri utilizzati in ExtraTreesClassifier:\n",
    "- <b>n_estimators</b>: numero di stimatori base da utilizzare\n",
    "- <b>max_features</b>: numero massimo di features da utilizzare\n",
    "- <b>random_state</b>: : utilizzato per controllare il resampling randomico del dataset originale. Se lo stimatore base acetta questo attrivuto, nell'ensemble viene generato un seme differente per ogni istanza.\n",
    "- <b>n_jobs</b>: numero di processi da utilizzare per il fit e la predizione"
   ]
  },
  {
   "cell_type": "code",
   "execution_count": 15,
   "metadata": {},
   "outputs": [],
   "source": [
    "from sklearn import model_selection\n",
    "from sklearn.ensemble import ExtraTreesClassifier"
   ]
  },
  {
   "cell_type": "code",
   "execution_count": 16,
   "metadata": {},
   "outputs": [
    {
     "data": {
      "image/png": "[encoded data removed]",
      "text/plain": [
       "<Figure size 432x288 with 1 Axes>"
      ]
     },
     "metadata": {
      "needs_background": "light"
     },
     "output_type": "display_data"
    },
    {
     "name": "stdout",
     "output_type": "stream",
     "text": [
      "Numero alberi: 50 -> Accuracy CV: 0.7733595352016405\n"
     ]
    }
   ],
   "source": [
    "#Definizione parametri del modello\n",
    "num_trees = 100\n",
    "max_features = 7\n",
    "\n",
    "kfold = model_selection.KFold(n_splits=10, random_state=seed, shuffle = True)\n",
    "\n",
    "#Dichiarazione del modello ExtraTreesClassifier\n",
    "means = []\n",
    "for num_trees in num_trees_list:\n",
    "    model = ExtraTreesClassifier(n_estimators=num_trees, max_features=max_features, n_jobs = -1, random_state=seed)\n",
    "    results = model_selection.cross_val_score(model, X, Y, cv=kfold)\n",
    "    means.append(results.mean())\n",
    "    \n",
    "print_graph(num_trees_list, means)\n",
    "print_max_accuracy(num_trees_list, means)"
   ]
  },
  {
   "cell_type": "code",
   "execution_count": 17,
   "metadata": {},
   "outputs": [
    {
     "name": "stdout",
     "output_type": "stream",
     "text": [
      "ExtraTreesClassifier train/test accuracies 1.000/0.714\n"
     ]
    }
   ],
   "source": [
    "from sklearn.metrics import accuracy_score\n",
    "from sklearn.model_selection import train_test_split\n",
    "\n",
    "X_train, X_test, y_train, y_test = train_test_split(X, Y, test_size=0.2, random_state=1, stratify=Y)\n",
    "\n",
    "model = model.fit(X_train, y_train)\n",
    "y_train_pred = model.predict(X_train)\n",
    "y_test_pred = model.predict(X_test)\n",
    "\n",
    "model_train = accuracy_score(y_train, y_train_pred) \n",
    "model_test = accuracy_score(y_test, y_test_pred) \n",
    "print('ExtraTreesClassifier train/test accuracies %.3f/%.3f' % (model_train, model_test))"
   ]
  },
  {
   "cell_type": "markdown",
   "metadata": {},
   "source": [
    "# Algoritmi Boosting\n",
    "\n",
    "Gli algoritmi Ensembel di Boosting creano una sequenza di modelli che permettono si correggere gli errori fatti dai modelli precedenti presenti nella sequenza. Una volta creati, i modelli effettuano le predizioni, le quali possono essere pesate dalla rispettiva accuracy del modello e i risultati sono combinati al fine di ottenere una predizione complessiva finale.\n",
    "\n",
    "I due algoritmi principali di Boosting Ensemble sono classificabili in:\n",
    "1. AdaBoost\n",
    "2. Stochastic Gradient Boosting"
   ]
  },
  {
   "cell_type": "markdown",
   "metadata": {},
   "source": [
    "## AdaBoost\n",
    "AdaBoost pesa le istanze presenti nel dataset in base alla difficoltà/facilità di classificazione, permettendo all'algoritmo di porre più o meno attenzione a tali esempi nella costruzione dei modelli seguenti.\n",
    "\n",
    "\n",
    "Negli snippet di codice sottostanti, è mostrato l'utilizzo di _AdaBoostClassifier_\n",
    "Si valuterà il _AdaBoostClassifier_ utilizzando un numero variabile di alberi. Infine, si stamperà il plot dell'accuratezza ritornata dalla Cross-Validation e il rispettivo numero di alberi. Tra tali valori, inoltre, è ritornato il numero di alberi consigliati in base al valore dell'accuratezza restituita dalla Cross-Validation."
   ]
  },
  {
   "cell_type": "code",
   "execution_count": 18,
   "metadata": {},
   "outputs": [
    {
     "data": {
      "image/png": "[encoded data removed]",
      "text/plain": [
       "<Figure size 432x288 with 1 Axes>"
      ]
     },
     "metadata": {
      "needs_background": "light"
     },
     "output_type": "display_data"
    },
    {
     "name": "stdout",
     "output_type": "stream",
     "text": [
      "Numero alberi: 85 -> Accuracy CV: 0.7629186602870812\n"
     ]
    }
   ],
   "source": [
    "# AdaBoost Classification\n",
    "from sklearn import model_selection\n",
    "from sklearn.ensemble import AdaBoostClassifier\n",
    "\n",
    "kfold = model_selection.KFold(n_splits=10, random_state=seed, shuffle = True)\n",
    "#Classificatore di base\n",
    "#tree = DecisionTreeClassifier(criterion='entropy', max_depth=1,random_state=1)\n",
    "\n",
    "#Dichiarazione del modello AdaBoost\n",
    "means = []\n",
    "for num_trees in num_trees_list:\n",
    "    #Opzionalmente si potrebbe parametrizzare con il classificatore di base l'attributo base_estimator\n",
    "    #model = AdaBoostClassifier(n_estimators=num_trees, random_state=seed, learning_rate=0.1, base_estimator=tree)\n",
    "    model = AdaBoostClassifier(n_estimators=num_trees, random_state=seed, learning_rate=0.1)\n",
    "\n",
    "    results = model_selection.cross_val_score(model, X, Y, cv=kfold)\n",
    "    means.append(results.mean())\n",
    "    \n",
    "print_graph(num_trees_list, means)\n",
    "print_max_accuracy(num_trees_list, means)"
   ]
  },
  {
   "cell_type": "code",
   "execution_count": 19,
   "metadata": {},
   "outputs": [
    {
     "name": "stdout",
     "output_type": "stream",
     "text": [
      "AdaBoost train/test accuracies 0.798/0.714\n"
     ]
    }
   ],
   "source": [
    "from sklearn.metrics import accuracy_score\n",
    "from sklearn.model_selection import train_test_split\n",
    "\n",
    "\n",
    "X_train, X_test, y_train, y_test = train_test_split(X, Y, test_size=0.2, random_state=1, stratify=Y)\n",
    "\n",
    "#Se base_estimator è definito, è possibile rimuovere il commento\n",
    "\"\"\"tree = tree.fit(X_train, y_train)\n",
    "y_train_pred = tree.predict(X_train)\n",
    "y_test_pred = tree.predict(X_test)\n",
    "\n",
    "tree_train = accuracy_score(y_train, y_train_pred)\n",
    "tree_test = accuracy_score(y_test, y_test_pred)\n",
    "print('Decision tree train/test accuracies %.3f/%.3f' % (tree_train, tree_test))\"\"\"\n",
    "\n",
    "model = model.fit(X_train, y_train)\n",
    "y_train_pred = model.predict(X_train)\n",
    "y_test_pred = model.predict(X_test)\n",
    "\n",
    "model_train = accuracy_score(y_train, y_train_pred) \n",
    "model_test = accuracy_score(y_test, y_test_pred) \n",
    "print('AdaBoost train/test accuracies %.3f/%.3f' % (model_train, model_test))"
   ]
  },
  {
   "cell_type": "markdown",
   "metadata": {},
   "source": [
    "## Stochastic Gradient Boosting\n",
    "Stochastic Gradient Boosting (conosciuto anche come Gradient Boosting Machines) fa riferimento ad una delle tecniche più sofisticate tra le tecniche di Ensemble Learning, basate sul metodo di ottimizzazione che tiene conto della discesa del gradiente stocastica.\n",
    "\n",
    "Negli snippet di codice sottostanti, è mostrato l'utilizzo di _GradientBoostingClassifier_.\n",
    "Si valuterà il _GradientBoostingClassifier_ utilizzando un numero variabile di alberi. Infine, si stamperà il plot dell'accuratezza ritornata dalla Cross-Validation e il rispettivo numero di alberi. Tra tali valori, inoltre, è ritornato il numero di alberi consigliati in base al valore dell'accuratezza restituita dalla Cross-Validation.\n",
    "\n",
    "\n",
    "Anche in questo caso, i parametri utilizzati in GradientBoostingClassifier sono i seguenti:\n",
    "- <b>n_estimators</b>: numero di alberi da utilizzare\n",
    "- <b>random_state</b>: : utilizzato per controllare il resampling randomico del dataset originale. Se lo stimatore base acetta questo attrivuto, nell'ensemble viene generato un seme differente per ogni istanza."
   ]
  },
  {
   "cell_type": "code",
   "execution_count": 20,
   "metadata": {},
   "outputs": [
    {
     "data": {
      "image/png": "[encoded data removed]",
      "text/plain": [
       "<Figure size 432x288 with 1 Axes>"
      ]
     },
     "metadata": {
      "needs_background": "light"
     },
     "output_type": "display_data"
    },
    {
     "name": "stdout",
     "output_type": "stream",
     "text": [
      "Numero alberi: 75 -> Accuracy CV: 0.7667976760082024\n"
     ]
    }
   ],
   "source": [
    "from sklearn import model_selection\n",
    "from sklearn.ensemble import GradientBoostingClassifier\n",
    "\n",
    "num_trees = 100\n",
    "kfold = model_selection.KFold(n_splits=10, random_state=seed, shuffle = True)\n",
    "\n",
    "#Dichiarazione del modello GradientBoostingClassifier\n",
    "means = []\n",
    "for num_trees in num_trees_list:\n",
    "    model = GradientBoostingClassifier(n_estimators=num_trees, random_state=seed)\n",
    "    results = model_selection.cross_val_score(model, X, Y, cv=kfold)\n",
    "    means.append(results.mean())\n",
    "    \n",
    "print_graph(num_trees_list, means)\n",
    "print_max_accuracy(num_trees_list, means)"
   ]
  },
  {
   "cell_type": "code",
   "execution_count": 21,
   "metadata": {},
   "outputs": [
    {
     "name": "stdout",
     "output_type": "stream",
     "text": [
      "GradientBoostingClassifier train/test accuracies 0.902/0.753\n"
     ]
    }
   ],
   "source": [
    "from sklearn.metrics import accuracy_score\n",
    "from sklearn.model_selection import train_test_split\n",
    "\n",
    "\n",
    "X_train, X_test, y_train, y_test = train_test_split(X, Y, test_size=0.2, random_state=1, stratify=Y)\n",
    "\n",
    "model = model.fit(X_train, y_train)\n",
    "y_train_pred = model.predict(X_train)\n",
    "y_test_pred = model.predict(X_test)\n",
    "\n",
    "model_train = accuracy_score(y_train, y_train_pred) \n",
    "model_test = accuracy_score(y_test, y_test_pred) \n",
    "print('GradientBoostingClassifier train/test accuracies %.3f/%.3f' % (model_train, model_test))"
   ]
  },
  {
   "cell_type": "markdown",
   "metadata": {},
   "source": [
    "# Voting Ensemble\n",
    "\n",
    "L'ultima famiglia di Ensemble considerata permette, mediante votazioni, di combinare le predizioni derivanti da diversi algoritmi di apprendimento automatico.\n",
    "\n",
    "Il funzionamento si asa sulla creazione di due o più modelli standalone rispetto ai dati presenti nel training set. Successivamente, un VotingClassifier può essere utilizzato per unire i modelli e mediare circa le predizioni fatte dai due sotto-modelli sui nuovi dati presenti nel test-set.\n",
    "\n",
    "Le predizioni fatte dai sotto-modelli possono essere pesate, ma tale compito risulta essere arduo. Tale tecnica è chiamata Stacked Generalization e non è attualmente implementata in scikit-learn.\n",
    "\n",
    "Negli snippet di codice sottostanti, è mostrato l'utilizzo di VotingClassifier. In particolare, VotingClassifier si baserà sulle predizioni derivanti da LogisticRegression, DecisionTreeClassifier e Support Vector Machine, mediando i risultati ottenuti mediante Cross-Validation."
   ]
  },
  {
   "cell_type": "code",
   "execution_count": 22,
   "metadata": {},
   "outputs": [
    {
     "name": "stdout",
     "output_type": "stream",
     "text": [
      "Accuracy:  0.7707792207792208\n"
     ]
    }
   ],
   "source": [
    "from sklearn import model_selection\n",
    "from sklearn.linear_model import LogisticRegression\n",
    "from sklearn.tree import DecisionTreeClassifier\n",
    "from sklearn.svm import SVC\n",
    "from sklearn.ensemble import VotingClassifier\n",
    "\n",
    "\n",
    "kfold = model_selection.KFold(n_splits=10, random_state=seed, shuffle = True)\n",
    "\n",
    "# Creazione dei singoli algoritmi\n",
    "sub_models = []\n",
    "lr = LogisticRegression(max_iter=1000)\n",
    "sub_models.append(('Logistic Regression', lr))\n",
    "\n",
    "cart = DecisionTreeClassifier()\n",
    "sub_models.append(('Decision Tree (CART)', cart))\n",
    "\n",
    "svc = SVC()\n",
    "sub_models.append(('Support Vector Machine', svc))\n",
    "\n",
    "# Creazione dell'Ensemble\n",
    "ensemble = VotingClassifier(sub_models, voting='hard')\n",
    "results = model_selection.cross_val_score(ensemble, X, Y, cv=kfold)\n",
    "print(\"Accuracy: \", results.mean())"
   ]
  },
  {
   "cell_type": "code",
   "execution_count": 23,
   "metadata": {},
   "outputs": [
    {
     "name": "stdout",
     "output_type": "stream",
     "text": [
      "VotingClassifiler train/test accuracies 0.858/0.753\n"
     ]
    }
   ],
   "source": [
    "from sklearn.metrics import accuracy_score\n",
    "from sklearn.model_selection import train_test_split\n",
    "\n",
    "X_train, X_test, y_train, y_test = train_test_split(X, Y, test_size=0.2, random_state=1, stratify=Y)\n",
    "\n",
    "ensemble = ensemble.fit(X_train, y_train)\n",
    "y_train_pred = ensemble.predict(X_train)\n",
    "y_test_pred = ensemble.predict(X_test)\n",
    "\n",
    "model_train = accuracy_score(y_train, y_train_pred) \n",
    "model_test = accuracy_score(y_test, y_test_pred) \n",
    "print('VotingClassifiler train/test accuracies %.3f/%.3f' % (model_train, model_test))"
   ]
  }
 ],
 "metadata": {
  "kernelspec": {
   "display_name": "Python 3",
   "language": "python",
   "name": "python3"
  },
  "language_info": {
   "codemirror_mode": {
    "name": "ipython",
    "version": 3
   },
   "file_extension": ".py",
   "mimetype": "text/x-python",
   "name": "python",
   "nbconvert_exporter": "python",
   "pygments_lexer": "ipython3",
   "version": "3.8.5"
  }
 },
 "nbformat": 4,
 "nbformat_minor": 4
}
